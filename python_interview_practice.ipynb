{
 "cells": [
  {
   "cell_type": "code",
   "execution_count": 1,
   "metadata": {},
   "outputs": [],
   "source": [
    "import time\n",
    "\n",
    "l1 = []\n",
    "l2 = []\n",
    "l3 = []\n",
    "s1 = []\n",
    "s2 = []"
   ]
  },
  {
   "cell_type": "code",
   "execution_count": 2,
   "metadata": {},
   "outputs": [
    {
     "name": "stdout",
     "output_type": "stream",
     "text": [
      "{1, 2, 3, 4, 5, 6, 7, 8, 9, 10, 11, 12, 13, 14, 15, 16, 17, 18, 19, 20, 21, 22, 23, 24, 25, 26, 27, 28, 29, 30, 31, 32, 33, 34, 35, 36, 37, 38, 39, 40, 41, 42, 43, 44, 45, 46, 47, 48, 49, 50, 51, 52, 53, 54, 55, 56, 57, 58, 59, 60, 61, 62, 63, 64, 65, 66, 67, 68, 69, 70, 71, 72, 73, 74, 75, 76, 77, 78, 79, 80, 81, 82, 83, 84, 85, 86, 87, 88, 89, 90, 91, 92, 93, 94, 95, 96, 97, 98}\n",
      "====================================================================================================\n",
      "{1, 2, 3, 4, 5, 6, 7, 8, 9, 10, 11, 12, 13, 14, 15, 16, 17, 18, 19, 20, 21, 22, 23, 24, 25, 26, 27, 28, 29, 30, 31, 32, 33, 34, 35, 36, 37, 38, 39, 40, 41, 42, 43, 44, 45, 46, 47, 48, 49, 51, 52, 53, 54, 55, 56, 57, 58, 59, 60, 61, 62, 63, 64, 65, 66, 67, 68, 69, 70, 71, 72, 73, 74, 75, 76, 77, 78, 79, 80, 81, 82, 83, 84, 85, 86, 87, 88, 89, 90, 91, 92, 93, 94, 95, 96, 97, 98, 99}\n",
      "{50}\n"
     ]
    }
   ],
   "source": [
    "def get_missing_number(lst):\n",
    "    return set(range(lst[len(lst) - 1])[1:]) - set(l)\n",
    "\n",
    "l = list(range(1, 100))\n",
    "l.remove(50)\n",
    "\n",
    "print(set(range(l[len(l) - 1])[1:]))\n",
    "print('=' * 100)\n",
    "print(set(l))\n",
    "print(get_missing_number(l))"
   ]
  },
  {
   "cell_type": "code",
   "execution_count": 3,
   "metadata": {},
   "outputs": [
    {
     "name": "stdout",
     "output_type": "stream",
     "text": [
      "[20, 30]\n"
     ]
    }
   ],
   "source": [
    "def find_duplicates(elements):\n",
    "    duplicates, seen = set(), set()\n",
    "    for element in elements:\n",
    "        if element in seen:\n",
    "            duplicates.add(element)\n",
    "        seen.add(element)\n",
    "#         print('seen: {}'.format(seen))\n",
    "#         print('duplicates: {}'.format(duplicates))\n",
    "#         print('-' * 50)\n",
    "    return list(duplicates)\n",
    "\n",
    "l = [20, 30, 40, 20, 50, 30]\n",
    "print(find_duplicates(l))"
   ]
  },
  {
   "cell_type": "code",
   "execution_count": 4,
   "metadata": {},
   "outputs": [
    {
     "name": "stdout",
     "output_type": "stream",
     "text": [
      "[40, 50]\n"
     ]
    }
   ],
   "source": [
    "def intersect(lst1, lst2):\n",
    "    res, lst2_copy = [], lst2[:]\n",
    "    for el in lst1:\n",
    "        if el in lst2_copy:\n",
    "            res.append(el)\n",
    "            lst2_copy.remove(el)\n",
    "    return res\n",
    "\n",
    "l1 = [20, 30, 40, 20, 50, 30]\n",
    "l2 = [70, 80, 40, 90, 50, 100]\n",
    "print(intersect(l1, l2))"
   ]
  },
  {
   "cell_type": "code",
   "execution_count": 5,
   "metadata": {},
   "outputs": [
    {
     "name": "stdout",
     "output_type": "stream",
     "text": [
      "True\n"
     ]
    }
   ],
   "source": [
    "def is_anagram(s1, s2):\n",
    "    return set(s1) == set(s2)\n",
    "\n",
    "print(is_anagram(\"elvies\", \"lives\"))"
   ]
  },
  {
   "cell_type": "code",
   "execution_count": 6,
   "metadata": {},
   "outputs": [
    {
     "name": "stdout",
     "output_type": "stream",
     "text": [
      "50\n",
      "20\n"
     ]
    }
   ],
   "source": [
    "print(max(l1))\n",
    "print(min(l1))"
   ]
  },
  {
   "cell_type": "code",
   "execution_count": 7,
   "metadata": {},
   "outputs": [
    {
     "name": "stdout",
     "output_type": "stream",
     "text": [
      "[0, 1, 2, 3, 4, 5, 6, 7, 8, 9, 0, 1, 2, 3, 4, 5, 6, 7, 8, 9]\n",
      "[0, 1, 2, 3, 4, 5, 6, 7, 8, 9]\n"
     ]
    }
   ],
   "source": [
    "# remove all duplicates\n",
    "lst = list(range(10)) + list(range(10))\n",
    "print(lst)\n",
    "lst = list(set(lst))\n",
    "print(lst)"
   ]
  },
  {
   "cell_type": "code",
   "execution_count": 8,
   "metadata": {},
   "outputs": [
    {
     "name": "stdout",
     "output_type": "stream",
     "text": [
      "olleh\n"
     ]
    }
   ],
   "source": [
    "def reverse(str):    \n",
    "    if len(str) <= 1:\n",
    "        return str\n",
    "    return reverse(str[1:]) + str[0]\n",
    "        \n",
    "print(reverse(\"hello\"))"
   ]
  },
  {
   "cell_type": "code",
   "execution_count": 9,
   "metadata": {},
   "outputs": [
    {
     "name": "stdout",
     "output_type": "stream",
     "text": [
      "Delivering presents to Eric's house\n",
      "Delivering presents to Kenny's house\n",
      "Delivering presents to Kyle's house\n",
      "Delivering presents to Stan's house\n",
      "Delivering presents to Dhiraj's house\n",
      "None\n"
     ]
    }
   ],
   "source": [
    "houses = [\"Eric's house\", \"Kenny's house\", \"Kyle's house\", \"Stan's house\", \"Dhiraj's house\"]\n",
    "\n",
    "# Each function call represents an elf doing his work \n",
    "def deliver_presents_recursively(houses):\n",
    "    # Worker elf doing his work\n",
    "    if len(houses) == 1:\n",
    "        house = houses[0]\n",
    "        print(\"Delivering presents to\", house)\n",
    "\n",
    "    # Manager elf doing his work\n",
    "    else:\n",
    "        mid = len(houses) // 2\n",
    "        first_half = houses[:mid]\n",
    "        second_half = houses[mid:]\n",
    "\n",
    "        # Divides his work among two elves\n",
    "        deliver_presents_recursively(first_half)\n",
    "        deliver_presents_recursively(second_half)\n",
    "        \n",
    "print(deliver_presents_recursively(houses))"
   ]
  },
  {
   "cell_type": "code",
   "execution_count": 10,
   "metadata": {},
   "outputs": [
    {
     "name": "stdout",
     "output_type": "stream",
     "text": [
      "[20, 30, 40, 20, 50, 30]\n",
      "[(20, 30), (20, 30), (30, 20), (20, 30)]\n",
      "0.00024975399992399616\n"
     ]
    }
   ],
   "source": [
    "# Find pairs of integers in list so that their sum is equal to integer x\n",
    "def find_pairs(l, x):\n",
    "    pairs = []\n",
    "    for (i, el1) in enumerate(l):\n",
    "        for (j, el2) in enumerate(l[(i+1):]):\n",
    "            if el1 + el2 == x:\n",
    "                pairs.append((el1, el2))\n",
    "    return pairs\n",
    "\n",
    "print(l1)\n",
    "tic = time.perf_counter()\n",
    "print(find_pairs(l1, 50))\n",
    "toc = time.perf_counter()\n",
    "print(toc - tic)"
   ]
  },
  {
   "cell_type": "code",
   "execution_count": 11,
   "metadata": {},
   "outputs": [
    {
     "name": "stdout",
     "output_type": "stream",
     "text": [
      "[20, 30, 40, 20, 50, 30]\n",
      "[(20, 30), (20, 30), (30, 20), (20, 30)]\n",
      "0.00020447800034162356\n"
     ]
    }
   ],
   "source": [
    "# Find pairs of integers in list so that their sum is equal to integer x\n",
    "def find_pairs(l, x):\n",
    "    pairs = []\n",
    "    len_l = len(l)\n",
    "    for i in range(0, len_l):\n",
    "        for j in range((i+1), len_l):\n",
    "            if l[i] + l[j] == x:\n",
    "                pairs.append((l[i], l[j]))\n",
    "    return pairs\n",
    "\n",
    "print(l1)\n",
    "tic = time.perf_counter()\n",
    "print(find_pairs(l1, 50))\n",
    "toc = time.perf_counter()\n",
    "print(toc - tic)"
   ]
  },
  {
   "cell_type": "code",
   "execution_count": 12,
   "metadata": {},
   "outputs": [
    {
     "name": "stdout",
     "output_type": "stream",
     "text": [
      "[1, 1, 2, 3, 5, 8, 13, 21, 34, 55]\n"
     ]
    }
   ],
   "source": [
    "# Compute the first n Fibonacci numbers\n",
    "def cal_fibinacci(n):\n",
    "    a, b = 0, 1\n",
    "    fib = []\n",
    "    for i in range(n):\n",
    "        fib.append(b)\n",
    "        a, b = b, (a + b)\n",
    "    return fib\n",
    "\n",
    "print(cal_fibinacci(10))"
   ]
  },
  {
   "cell_type": "code",
   "execution_count": 13,
   "metadata": {},
   "outputs": [
    {
     "name": "stdout",
     "output_type": "stream",
     "text": [
      "True\n"
     ]
    }
   ],
   "source": [
    "def is_palindrome(phrase):\n",
    "    return phrase == phrase[::-1]\n",
    "\n",
    "print(is_palindrome(\"madam\"))"
   ]
  },
  {
   "cell_type": "code",
   "execution_count": 14,
   "metadata": {},
   "outputs": [
    {
     "name": "stdout",
     "output_type": "stream",
     "text": [
      "[20, 30, 40, 20, 50, 30]\n",
      "[20, 20, 30, 30, 40, 50]\n"
     ]
    }
   ],
   "source": [
    "def qsort(l):\n",
    "    if l == []:\n",
    "        return []\n",
    "    return qsort([x for x in l[1:] if x < l[0]]) + l[0:1] + qsort([x for x in l[1:] if x >= l[0]])\n",
    "\n",
    "print(l1)\n",
    "print(qsort(l1))"
   ]
  },
  {
   "cell_type": "code",
   "execution_count": 15,
   "metadata": {},
   "outputs": [
    {
     "name": "stdout",
     "output_type": "stream",
     "text": [
      "[3, 4, 5, 6]\n",
      "[3, 4, 5, 6, 10, 9]\n",
      "[5, 3, 4, 5, 6, 10]\n"
     ]
    }
   ],
   "source": [
    "# as a list ...\n",
    "l = [3 , 4]\n",
    "l += [5 , 6] \n",
    "print(l)\n",
    "\n",
    "# ... as a stack ...\n",
    "l.append(10) \n",
    "l.extend([9, 7])\n",
    "l.pop() \n",
    "print(l)\n",
    "\n",
    "# ... and as a queue\n",
    "l.insert(0 , 5) \n",
    "l.pop() \n",
    "print(l)"
   ]
  },
  {
   "cell_type": "code",
   "execution_count": 16,
   "metadata": {},
   "outputs": [
    {
     "name": "stdout",
     "output_type": "stream",
     "text": [
      "{'nna', 'nan', 'ann'}\n"
     ]
    }
   ],
   "source": [
    "def get_permutations(w):\n",
    "    if len(w) <= 1:\n",
    "        return set(w)\n",
    "    smaller = get_permutations(w[1:])\n",
    "    perms = set()\n",
    "    for x in smaller:\n",
    "        for pos in range(0, len(x) + 1):\n",
    "            perm = x[:pos] + w[0] + x[pos:]\n",
    "            perms.add(perm)\n",
    "    return perms\n",
    "\n",
    "print(get_permutations(\"nan\"))"
   ]
  },
  {
   "cell_type": "code",
   "execution_count": 17,
   "metadata": {},
   "outputs": [
    {
     "data": {
      "text/plain": [
       "['r', 'g', 'b']"
      ]
     },
     "execution_count": 17,
     "metadata": {},
     "output_type": "execute_result"
    }
   ],
   "source": [
    "s1 = ['red', 'green', 'blue']\n",
    "list(map(lambda x: x[0], s1))"
   ]
  },
  {
   "cell_type": "code",
   "execution_count": 18,
   "metadata": {},
   "outputs": [
    {
     "data": {
      "text/plain": [
       "['4red', '1green', '3blue']"
      ]
     },
     "execution_count": 18,
     "metadata": {},
     "output_type": "execute_result"
    }
   ],
   "source": [
    "list(map(lambda x, y: str(x) + y, [4, 1, 3], s1))"
   ]
  },
  {
   "cell_type": "code",
   "execution_count": 19,
   "metadata": {},
   "outputs": [
    {
     "data": {
      "text/plain": [
       "'this is good'"
      ]
     },
     "execution_count": 19,
     "metadata": {},
     "output_type": "execute_result"
    }
   ],
   "source": [
    "' is '.join(['this', 'good'])"
   ]
  },
  {
   "cell_type": "code",
   "execution_count": 20,
   "metadata": {},
   "outputs": [
    {
     "data": {
      "text/plain": [
       "[15, 20]"
      ]
     },
     "execution_count": 20,
     "metadata": {},
     "output_type": "execute_result"
    }
   ],
   "source": [
    "list(filter(lambda x: True if x > 10 else False, [1, 15, 9, 20]))"
   ]
  },
  {
   "cell_type": "code",
   "execution_count": 21,
   "metadata": {},
   "outputs": [
    {
     "name": "stdout",
     "output_type": "stream",
     "text": [
      "good\n"
     ]
    }
   ],
   "source": [
    "print('   good '.strip())"
   ]
  },
  {
   "cell_type": "code",
   "execution_count": 22,
   "metadata": {},
   "outputs": [
    {
     "data": {
      "text/plain": [
       "[20, 20, 30, 30, 40, 50]"
      ]
     },
     "execution_count": 22,
     "metadata": {},
     "output_type": "execute_result"
    }
   ],
   "source": [
    "sorted(l1)"
   ]
  },
  {
   "cell_type": "code",
   "execution_count": 23,
   "metadata": {},
   "outputs": [
    {
     "data": {
      "text/plain": [
       "[50, 20, 20, 30, 30, 40]"
      ]
     },
     "execution_count": 23,
     "metadata": {},
     "output_type": "execute_result"
    }
   ],
   "source": [
    "sorted(l1, key = lambda x: 0 if x == 50 else x)"
   ]
  },
  {
   "cell_type": "code",
   "execution_count": 24,
   "metadata": {},
   "outputs": [
    {
     "name": "stdout",
     "output_type": "stream",
     "text": [
      "[20, 30, 40, 20, 50, 30]\n",
      "[70, 80, 40, 90, 50, 100]\n",
      "[(20, 70), (30, 80), (40, 40), (20, 90), (50, 50), (30, 100)]\n"
     ]
    }
   ],
   "source": [
    "# zip or groups by one of each list\n",
    "print(l1)\n",
    "print(l2)\n",
    "l3 = list(zip(l1, l2))\n",
    "print(l3)"
   ]
  },
  {
   "cell_type": "code",
   "execution_count": 25,
   "metadata": {},
   "outputs": [
    {
     "data": {
      "text/plain": [
       "[(20, 30, 40, 20, 50, 30), (70, 80, 40, 90, 50, 100)]"
      ]
     },
     "execution_count": 25,
     "metadata": {},
     "output_type": "execute_result"
    }
   ],
   "source": [
    "# ungrouping\n",
    "list(zip(*l3))"
   ]
  },
  {
   "cell_type": "code",
   "execution_count": 26,
   "metadata": {},
   "outputs": [
    {
     "data": {
      "text/plain": [
       "[(0, 'red'), (1, 'green'), (2, 'blue')]"
      ]
     },
     "execution_count": 26,
     "metadata": {},
     "output_type": "execute_result"
    }
   ],
   "source": [
    "list(enumerate(s1))"
   ]
  },
  {
   "cell_type": "code",
   "execution_count": 27,
   "metadata": {},
   "outputs": [
    {
     "name": "stdout",
     "output_type": "stream",
     "text": [
      "jane\n",
      "alice\n",
      "alice\n",
      "jane\n"
     ]
    }
   ],
   "source": [
    "a, b = 'jane', 'alice'\n",
    "print(a)\n",
    "print(b)\n",
    "a, b = b, a\n",
    "print(a)\n",
    "print(b)"
   ]
  },
  {
   "cell_type": "code",
   "execution_count": 28,
   "metadata": {},
   "outputs": [
    {
     "name": "stdout",
     "output_type": "stream",
     "text": [
      "13\n"
     ]
    },
    {
     "data": {
      "text/plain": [
       "13"
      ]
     },
     "execution_count": 28,
     "metadata": {},
     "output_type": "execute_result"
    }
   ],
   "source": [
    "def f(x, y, z):\n",
    "    return x + y * z\n",
    "\n",
    "print(f(*[1, 3, 4]))\n",
    "f(**{'z': 4, 'x': 1, 'y': 3})"
   ]
  },
  {
   "cell_type": "code",
   "execution_count": 29,
   "metadata": {},
   "outputs": [
    {
     "name": "stdout",
     "output_type": "stream",
     "text": [
      "20\n",
      "[30, 40, 20, 50, 30]\n"
     ]
    }
   ],
   "source": [
    "a, *b = l1\n",
    "print(a)\n",
    "print(b)"
   ]
  },
  {
   "cell_type": "code",
   "execution_count": 30,
   "metadata": {},
   "outputs": [
    {
     "name": "stdout",
     "output_type": "stream",
     "text": [
      "{'alice': 18, 'bob': 27, 'ann': 22}\n"
     ]
    }
   ],
   "source": [
    "x = {'alice': 18}\n",
    "y = {'bob': 27, 'ann': 22}\n",
    "z = {**x, **y}\n",
    "print(z)"
   ]
  },
  {
   "cell_type": "code",
   "execution_count": 31,
   "metadata": {},
   "outputs": [
    {
     "name": "stdout",
     "output_type": "stream",
     "text": [
      "[20, 40, 30, 30]\n",
      "[20, 40, 60, 30, 30]\n",
      "[20, 40, 60, 30, 30]\n",
      "[20, 40, 30, 30]\n",
      "[30, 30, 40, 20]\n",
      "[20, 30, 30, 40]\n"
     ]
    },
    {
     "data": {
      "text/plain": [
       "1"
      ]
     },
     "execution_count": 31,
     "metadata": {},
     "output_type": "execute_result"
    }
   ],
   "source": [
    "l1 = [20, 40, 30]\n",
    "l1.append(30)\n",
    "print(l1)\n",
    "l1.insert(2, 60)\n",
    "print(l1)\n",
    "l1 + [30]\n",
    "print(l1)\n",
    "l1.remove(60)\n",
    "print(l1)\n",
    "l1.reverse()\n",
    "print(l1)\n",
    "l1.sort()\n",
    "print(l1)\n",
    "l1.index(30)\n",
    "l1.index(30, 1)"
   ]
  },
  {
   "cell_type": "code",
   "execution_count": 32,
   "metadata": {},
   "outputs": [
    {
     "name": "stdout",
     "output_type": "stream",
     "text": [
      "[3, 5]\n"
     ]
    },
    {
     "data": {
      "text/plain": [
       "5"
      ]
     },
     "execution_count": 32,
     "metadata": {},
     "output_type": "execute_result"
    }
   ],
   "source": [
    "stack = [3]\n",
    "stack.append(5)\n",
    "print(stack)\n",
    "stack.pop()"
   ]
  },
  {
   "cell_type": "code",
   "execution_count": 33,
   "metadata": {},
   "outputs": [
    {
     "name": "stdout",
     "output_type": "stream",
     "text": [
      "{'banana', 'mango', 'apple'}\n",
      "{'banana', 'mango', 'apple'}\n",
      "False\n",
      "True\n"
     ]
    }
   ],
   "source": [
    "basket = {'apple', 'banana', 'mango'}\n",
    "print(basket)\n",
    "same = set(['apple', 'banana', 'mango'])\n",
    "print(same)\n",
    "print('mashroom' in basket)\n",
    "print('apple' in basket)"
   ]
  },
  {
   "cell_type": "code",
   "execution_count": 34,
   "metadata": {},
   "outputs": [
    {
     "name": "stdout",
     "output_type": "stream",
     "text": [
      "{'apple': 50, 'banana': 80, 'chocolate': 540}\n",
      "True\n",
      "True\n",
      "True\n",
      "chocolate\n"
     ]
    }
   ],
   "source": [
    "calories = {'apple': 50, 'banana': 80, 'chocolate': 540}\n",
    "print(calories)\n",
    "print(calories['apple'] < calories['banana'])\n",
    "print('apple' in calories.keys())\n",
    "print(50 in calories.values())\n",
    "for k, v in calories.items():\n",
    "    print(k) if v > 500 else None"
   ]
  },
  {
   "cell_type": "code",
   "execution_count": 35,
   "metadata": {},
   "outputs": [
    {
     "name": "stdout",
     "output_type": "stream",
     "text": [
      "['hi alice', 'hi bob', 'hi zen']\n",
      "[0, 0, 2]\n",
      "{0, 4}\n"
     ]
    }
   ],
   "source": [
    "# list comprehention\n",
    "l = [('hi ' + x) for x in ['alice', 'bob', 'zen']]\n",
    "print(l)\n",
    "l = [x * y for x in range(3) for y in range(3) if x > y]\n",
    "print(l)\n",
    "squares = {x**2 for x in [0,2,4] if x < 4}\n",
    "print(squares)"
   ]
  },
  {
   "cell_type": "code",
   "execution_count": 37,
   "metadata": {},
   "outputs": [
    {
     "name": "stdout",
     "output_type": "stream",
     "text": [
      "good\n"
     ]
    }
   ],
   "source": [
    "if None or 0 or 0.0 or '' or [] or {} or set():\n",
    "    print('dead')\n",
    "else: \n",
    "    print('good')"
   ]
  },
  {
   "cell_type": "code",
   "execution_count": 49,
   "metadata": {},
   "outputs": [
    {
     "name": "stdout",
     "output_type": "stream",
     "text": [
      "he quick brown fox jumps over the lazy dog\n",
      "the quick brown fox jumps over the lazy do\n",
      "god yzal eht revo spmuj xof nworb kciuq eht\n",
      "dog\n",
      "True\n",
      "40\n",
      "the quick brown fox jumps over the lazy wolf\n",
      "43\n",
      "True\n"
     ]
    }
   ],
   "source": [
    "s = \"the quick brown fox jumps over the lazy dog\"\n",
    "print(s[1:])\n",
    "print(s[:-1])\n",
    "print(s[::-1])\n",
    "print(s[-3:])\n",
    "print(s.startswith('the'))\n",
    "print(s.find('dog'))\n",
    "print(s.replace('dog', 'wolf'))\n",
    "print(len(s))\n",
    "print('fox' in s)"
   ]
  },
  {
   "cell_type": "code",
   "execution_count": 58,
   "metadata": {},
   "outputs": [
    {
     "data": {
      "text/plain": [
       "[40, 60, 60, 80]"
      ]
     },
     "execution_count": 58,
     "metadata": {},
     "output_type": "execute_result"
    }
   ],
   "source": [
    "[(lambda x: x * 2) (x) for x in l1]"
   ]
  },
  {
   "cell_type": "markdown",
   "metadata": {},
   "source": [
    "## Iterators, Generators and Decorators"
   ]
  },
  {
   "cell_type": "code",
   "execution_count": 11,
   "metadata": {},
   "outputs": [],
   "source": [
    "class Counter(object):\n",
    "    def __init__(self, low, high):\n",
    "        self.current = low\n",
    "        self.high = high\n",
    "        \n",
    "    # return itself as as iterator object\n",
    "    def __iter__(self):        \n",
    "        return self\n",
    "    \n",
    "    # return the next value still the value is less than high\n",
    "    def __next__(self):\n",
    "        if self.current > self.high:\n",
    "            raise StopIteration\n",
    "        else:\n",
    "            self.current += 1\n",
    "        return self.current - 1\n",
    "    \n",
    "    # generator\n",
    "    def generator(self):\n",
    "        print(\"inside my generator\")\n",
    "        yield 'a'\n",
    "        yield 'b'\n",
    "        yield 'c'   \n",
    "        \n",
    "    # yield \n",
    "    def counter_generator(self):\n",
    "        while self.current <= self.high:\n",
    "            yield self.current\n",
    "            self.current += 1"
   ]
  },
  {
   "cell_type": "code",
   "execution_count": 14,
   "metadata": {},
   "outputs": [
    {
     "name": "stdout",
     "output_type": "stream",
     "text": [
      "5 6 7 8 9 10 inside my generator\n",
      "a\n",
      "b\n",
      "c\n",
      "1 2 3 4 5 "
     ]
    }
   ],
   "source": [
    "# calling \n",
    "c = Counter(5, 10)\n",
    "for i in c:\n",
    "    print(i, end=' ')\n",
    "    \n",
    "c.generator()\n",
    "for char in c.generator():\n",
    "    print(char)\n",
    "    \n",
    "c = Counter(1, 5)\n",
    "for i in c.counter_generator():\n",
    "    print(i, end=' ')"
   ]
  },
  {
   "cell_type": "code",
   "execution_count": 17,
   "metadata": {},
   "outputs": [
    {
     "name": "stdout",
     "output_type": "stream",
     "text": [
      "30\n"
     ]
    }
   ],
   "source": [
    "# clouser adder is a clouser\n",
    "def add_num(num):\n",
    "    def adder(number):\n",
    "        return num + number\n",
    "    return adder\n",
    "\n",
    "result = add_num(10)\n",
    "result = result(20)\n",
    "print(result)"
   ]
  },
  {
   "cell_type": "code",
   "execution_count": 23,
   "metadata": {},
   "outputs": [
    {
     "name": "stdout",
     "output_type": "stream",
     "text": [
      "before call\n",
      "(1, 3)\n",
      "{}\n",
      "our add function\n",
      "after call\n"
     ]
    },
    {
     "data": {
      "text/plain": [
       "14"
      ]
     },
     "execution_count": 23,
     "metadata": {},
     "output_type": "execute_result"
    }
   ],
   "source": [
    "# decorator\n",
    "def my_decorator(func):\n",
    "    def wrapper(*args, **kwargs):\n",
    "        print(\"before call\")\n",
    "        print(args)\n",
    "        print(kwargs)\n",
    "        # changing args\n",
    "        args = [5, 9]        \n",
    "        result = func(*args, **kwargs)        \n",
    "        print(\"after call\")\n",
    "        return result\n",
    "    return wrapper\n",
    "\n",
    "@my_decorator\n",
    "def add(a, b):\n",
    "    print(\"our add function\")\n",
    "    return a + b\n",
    "\n",
    "add(1, 3)"
   ]
  },
  {
   "cell_type": "code",
   "execution_count": null,
   "metadata": {},
   "outputs": [],
   "source": []
  }
 ],
 "metadata": {
  "kernelspec": {
   "display_name": "Python 3",
   "language": "python",
   "name": "python3"
  },
  "language_info": {
   "codemirror_mode": {
    "name": "ipython",
    "version": 3
   },
   "file_extension": ".py",
   "mimetype": "text/x-python",
   "name": "python",
   "nbconvert_exporter": "python",
   "pygments_lexer": "ipython3",
   "version": "3.7.7"
  }
 },
 "nbformat": 4,
 "nbformat_minor": 4
}
