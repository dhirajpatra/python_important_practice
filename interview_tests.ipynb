{
 "cells": [
  {
   "cell_type": "code",
   "execution_count": 148,
   "metadata": {},
   "outputs": [],
   "source": [
    "# remove adjacent duplicate chars\n",
    "def reduce_string(string): \n",
    "    try:\n",
    "        \n",
    "        # make the string lower case\n",
    "        string = string.lower()\n",
    "        l = len(string)\n",
    "        # no need to process if the string len is 0 or 1\n",
    "        if l == 0 or l == 1: \n",
    "            return string \n",
    "        \n",
    "        # make it a list\n",
    "        ls = list(string)\n",
    "        matched_pairs = []\n",
    "        previous = None\n",
    "        # loop thorugh all chars of string as list\n",
    "        for i in range(0, l):\n",
    "            if ls[i] == previous:\n",
    "                # adjacent duplicate or pair\n",
    "                matched_pairs.append(ls[(i-1)] + ls[i])                \n",
    "            else:\n",
    "                previous = ls[i]\n",
    "        \n",
    "        # now need to remove duplicate pair chars from string\n",
    "        for i in matched_pairs:\n",
    "            string = string.replace(i, '')\n",
    "        \n",
    "        # if still \n",
    "        if len(matched_pairs) > 0:\n",
    "            string = reduce_string(string)\n",
    "        \n",
    "    except:\n",
    "        return -1            \n",
    "            \n",
    "    return string"
   ]
  },
  {
   "cell_type": "code",
   "execution_count": 219,
   "metadata": {},
   "outputs": [],
   "source": [
    "# swap left right of middle number and sum all digits of number\n",
    "def swap_sum(num):\n",
    "    try:\n",
    "        l = len(str(num))\n",
    "        # check length and odd or not\n",
    "        if l < 3 or l % 2 == 0:\n",
    "            return -1\n",
    "        \n",
    "        # middle number index in list\n",
    "        middle_index = l // 2\n",
    "        num_as_list = [int(i) for i in str(num)]\n",
    "        \n",
    "        # swapping\n",
    "        temp = num_as_list[(middle_index - 1)]    \n",
    "        num_as_list[(middle_index - 1)] = num_as_list[(middle_index + 1)]   \n",
    "        num_as_list[(middle_index + 1)] = temp\n",
    "        \n",
    "        # sum of the all digits of num\n",
    "        sum_num = sum(num_as_list)\n",
    "    except:\n",
    "        return -1\n",
    "    \n",
    "    return sum_num"
   ]
  },
  {
   "cell_type": "code",
   "execution_count": 236,
   "metadata": {},
   "outputs": [],
   "source": [
    "# how many chocolates can get against total money, price of each chocolate \n",
    "# discount number of wrappers need for each chocolate\n",
    "def get_chocolates(money, price, discount):\n",
    "    if type(money) != int or type(price) != int or type(discount) != int:\n",
    "        return -1\n",
    "    elif money < 0 or price < 0 or discount < 0:\n",
    "        return -1\n",
    "    elif price > money:\n",
    "        return 0\n",
    "    \n",
    "    chocolate_first = money // price\n",
    "    wrappers_discount = chocolate_first // discount \n",
    "    total_chocolates = chocolate_first + wrappers_discount\n",
    "    \n",
    "    print(chocolate_first)    \n",
    "    print(wrappers_discount)\n",
    "    print(total_chocolates)"
   ]
  },
  {
   "cell_type": "code",
   "execution_count": null,
   "metadata": {},
   "outputs": [],
   "source": []
  }
 ],
 "metadata": {
  "kernelspec": {
   "display_name": "Python 3",
   "language": "python",
   "name": "python3"
  },
  "language_info": {
   "codemirror_mode": {
    "name": "ipython",
    "version": 3
   },
   "file_extension": ".py",
   "mimetype": "text/x-python",
   "name": "python",
   "nbconvert_exporter": "python",
   "pygments_lexer": "ipython3",
   "version": "3.7.7"
  }
 },
 "nbformat": 4,
 "nbformat_minor": 4
}
